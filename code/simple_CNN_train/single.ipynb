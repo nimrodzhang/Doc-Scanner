{
 "cells": [
  {
   "cell_type": "code",
   "execution_count": null,
   "metadata": {
    "colab": {
     "base_uri": "https://localhost:8080/",
     "height": 267
    },
    "colab_type": "code",
    "executionInfo": {
     "elapsed": 18766,
     "status": "ok",
     "timestamp": 1589410624525,
     "user": {
      "displayName": "黄尹嘉",
      "photoUrl": "https://lh3.googleusercontent.com/a-/AOh14GgeEtYfs8RVXNSOiszxF47m9T_UyeQgLs89OenO=s64",
      "userId": "07597697982615659834"
     },
     "user_tz": 240
    },
    "id": "XrkzYmSXP9SK",
    "outputId": "9a13c1b1-2290-4389-95d3-a5db3396f062"
   },
   "outputs": [],
   "source": [
    "!pip install --upgrade keras\n",
    "from google.colab import drive\n",
    "drive.mount('/content/drive')"
   ]
  },
  {
   "cell_type": "code",
   "execution_count": 0,
   "metadata": {
    "colab": {},
    "colab_type": "code",
    "id": "sK2xZp-1QXSj"
   },
   "outputs": [],
   "source": [
    "DIC = './'"
   ]
  },
  {
   "cell_type": "code",
   "execution_count": 0,
   "metadata": {
    "colab": {
     "base_uri": "https://localhost:8080/",
     "height": 34
    },
    "colab_type": "code",
    "executionInfo": {
     "elapsed": 816,
     "status": "ok",
     "timestamp": 1589411509538,
     "user": {
      "displayName": "黄尹嘉",
      "photoUrl": "https://lh3.googleusercontent.com/a-/AOh14GgeEtYfs8RVXNSOiszxF47m9T_UyeQgLs89OenO=s64",
      "userId": "07597697982615659834"
     },
     "user_tz": 240
    },
    "id": "QQ29dIPJTtUl",
    "outputId": "b9048879-6074-4eb7-9e23-6c816f8b0252"
   },
   "outputs": [
    {
     "name": "stdout",
     "output_type": "stream",
     "text": [
      "TensorFlow 1.x selected.\n"
     ]
    }
   ],
   "source": [
    "%tensorflow_version 1.x"
   ]
  },
  {
   "cell_type": "code",
   "execution_count": 0,
   "metadata": {
    "colab": {},
    "colab_type": "code",
    "id": "5CymbYcFTwaZ"
   },
   "outputs": [],
   "source": [
    "import tensorflow as tf\n",
    "import os\n",
    "import numpy as np\n",
    "import cv2 as cv\n",
    "from sklearn.utils import shuffle\n",
    "\n",
    "tf.enable_eager_execution()"
   ]
  },
  {
   "cell_type": "code",
   "execution_count": 0,
   "metadata": {
    "colab": {},
    "colab_type": "code",
    "id": "ccFciXwGT6Q6"
   },
   "outputs": [],
   "source": [
    "path = f'{DIC}English/Fnt/'\n",
    "\n",
    "img_rows, img_cols, img_channels = [40, 40, 1]\n",
    "nb_classes = 62\n",
    "\n",
    "nb_conv = 3\n",
    "nb_pool = 2"
   ]
  },
  {
   "cell_type": "code",
   "execution_count": 0,
   "metadata": {
    "colab": {
     "base_uri": "https://localhost:8080/",
     "height": 52
    },
    "colab_type": "code",
    "executionInfo": {
     "elapsed": 136976,
     "status": "ok",
     "timestamp": 1589411744483,
     "user": {
      "displayName": "黄尹嘉",
      "photoUrl": "https://lh3.googleusercontent.com/a-/AOh14GgeEtYfs8RVXNSOiszxF47m9T_UyeQgLs89OenO=s64",
      "userId": "07597697982615659834"
     },
     "user_tz": 240
    },
    "id": "Ju5n7Z3BUF-8",
    "outputId": "69abc5e8-13ad-45fb-f888-32811c5387cb"
   },
   "outputs": [
    {
     "name": "stdout",
     "output_type": "stream",
     "text": [
      "loading images ...\n",
      "Complete!\n"
     ]
    }
   ],
   "source": [
    "def load_data(dirs, img_rows, img_cols, img_channels):\n",
    "    X = []\n",
    "    y = []\n",
    "    label = 0\n",
    "    print('loading images ...')\n",
    "    for d in dirs:\n",
    "        dir_path = os.path.join(path, d)\n",
    "        image_list = os.listdir(dir_path)\n",
    "        for im in image_list:\n",
    "            img_path = os.path.join(dir_path, im)\n",
    "            if img_channels == 1:\n",
    "                img = cv.imread(img_path, 0)\n",
    "            else:\n",
    "                img = cv.imread(img_path)\n",
    "            img = cv.resize(img, (img_rows, img_cols))\n",
    "            X.append(img)\n",
    "            y.append(label)\n",
    "        label = label + 1\n",
    "    print('Complete!')\n",
    "    return X, y\n",
    "\n",
    "\n",
    "def prepare_data_for_training(X, y, img_rows, img_cols, img_channels):\n",
    "    X = np.asarray(X, dtype='float32')\n",
    "    y = np.asarray(y)\n",
    "    if img_channels == 1:\n",
    "        X = X.reshape(X.shape[0], img_channels, img_rows, img_cols)\n",
    "    else:\n",
    "        X = np.transpose(X, (0, 3, 1, 2))\n",
    "\n",
    "    X, y = shuffle(X, y, random_state=7)  # randomly shuffles the data\n",
    "\n",
    "    y = tf.keras.utils.to_categorical(y, nb_classes)  # converts integer labels to one-hot vecor\n",
    "    return X, y\n",
    "\n",
    "\n",
    "dirs = sorted(os.listdir(path))\n",
    "\n",
    "X, y = load_data(dirs, img_rows, img_cols, img_channels)\n",
    "\n",
    "X, y = prepare_data_for_training(X, y, img_rows, img_cols, img_channels=1)"
   ]
  },
  {
   "cell_type": "code",
   "execution_count": 0,
   "metadata": {
    "colab": {},
    "colab_type": "code",
    "id": "r7yliEyzXnOG"
   },
   "outputs": [],
   "source": [
    "X = np.transpose(X, (0, 2, 3, 1))"
   ]
  },
  {
   "cell_type": "code",
   "execution_count": 0,
   "metadata": {
    "colab": {
     "base_uri": "https://localhost:8080/",
     "height": 976
    },
    "colab_type": "code",
    "executionInfo": {
     "elapsed": 777,
     "status": "ok",
     "timestamp": 1589416851257,
     "user": {
      "displayName": "黄尹嘉",
      "photoUrl": "https://lh3.googleusercontent.com/a-/AOh14GgeEtYfs8RVXNSOiszxF47m9T_UyeQgLs89OenO=s64",
      "userId": "07597697982615659834"
     },
     "user_tz": 240
    },
    "id": "rFa8vrwGU1WU",
    "outputId": "65f368a5-92f6-4f1b-c124-b5efbb78e3c3"
   },
   "outputs": [
    {
     "name": "stdout",
     "output_type": "stream",
     "text": [
      "Creating model...\n",
      "Model: \"sequential_5\"\n",
      "_________________________________________________________________\n",
      "Layer (type)                 Output Shape              Param #   \n",
      "=================================================================\n",
      "batch_normalization_17 (Batc (None, 40, 40, 1)         4         \n",
      "_________________________________________________________________\n",
      "conv2d_11 (Conv2D)           (None, 20, 20, 32)        320       \n",
      "_________________________________________________________________\n",
      "activation_15 (Activation)   (None, 20, 20, 32)        0         \n",
      "_________________________________________________________________\n",
      "batch_normalization_18 (Batc (None, 20, 20, 32)        128       \n",
      "_________________________________________________________________\n",
      "conv2d_12 (Conv2D)           (None, 20, 20, 32)        9248      \n",
      "_________________________________________________________________\n",
      "activation_16 (Activation)   (None, 20, 20, 32)        0         \n",
      "_________________________________________________________________\n",
      "batch_normalization_19 (Batc (None, 20, 20, 32)        128       \n",
      "_________________________________________________________________\n",
      "max_pooling2d_5 (MaxPooling2 (None, 19, 19, 32)        0         \n",
      "_________________________________________________________________\n",
      "conv2d_13 (Conv2D)           (None, 10, 10, 48)        13872     \n",
      "_________________________________________________________________\n",
      "activation_17 (Activation)   (None, 10, 10, 48)        0         \n",
      "_________________________________________________________________\n",
      "batch_normalization_20 (Batc (None, 10, 10, 48)        192       \n",
      "_________________________________________________________________\n",
      "conv2d_14 (Conv2D)           (None, 10, 10, 48)        20784     \n",
      "_________________________________________________________________\n",
      "activation_18 (Activation)   (None, 10, 10, 48)        0         \n",
      "_________________________________________________________________\n",
      "batch_normalization_21 (Batc (None, 10, 10, 48)        192       \n",
      "_________________________________________________________________\n",
      "max_pooling2d_6 (MaxPooling2 (None, 9, 9, 48)          0         \n",
      "_________________________________________________________________\n",
      "flatten_2 (Flatten)          (None, 3888)              0         \n",
      "_________________________________________________________________\n",
      "dense_4 (Dense)              (None, 256)               995584    \n",
      "_________________________________________________________________\n",
      "batch_normalization_22 (Batc (None, 256)               1024      \n",
      "_________________________________________________________________\n",
      "activation_19 (Activation)   (None, 256)               0         \n",
      "_________________________________________________________________\n",
      "dropout_2 (Dropout)          (None, 256)               0         \n",
      "_________________________________________________________________\n",
      "dense_5 (Dense)              (None, 62)                15934     \n",
      "_________________________________________________________________\n",
      "activation_20 (Activation)   (None, 62)                0         \n",
      "=================================================================\n",
      "Total params: 1,057,410\n",
      "Trainable params: 1,056,576\n",
      "Non-trainable params: 834\n",
      "_________________________________________________________________\n",
      "Done.\n"
     ]
    }
   ],
   "source": [
    "def create_model():\n",
    "    print(\"Creating model...\")\n",
    "    model = tf.keras.Sequential()\n",
    "    model.add(tf.keras.layers.BatchNormalization(input_shape=(img_rows, img_cols, img_channels)))\n",
    "\n",
    "    model.add(tf.keras.layers.Convolution2D(32, (nb_conv, nb_conv), padding='same', strides=(2, 2)))\n",
    "    model.add(tf.keras.layers.Activation('relu'))\n",
    "    model.add(tf.keras.layers.BatchNormalization())\n",
    "\n",
    "    model.add(tf.keras.layers.Convolution2D(32, (nb_conv, nb_conv), padding='same'))\n",
    "    model.add(tf.keras.layers.Activation('relu'))\n",
    "    model.add(tf.keras.layers.BatchNormalization())\n",
    "\n",
    "    model.add(tf.keras.layers.MaxPooling2D(pool_size=(nb_pool, nb_pool), strides=(1, 1)))\n",
    "\n",
    "    model.add(tf.keras.layers.Convolution2D(48, (nb_conv, nb_conv), padding='same', strides=(2, 2)))\n",
    "    model.add(tf.keras.layers.Activation('relu'))\n",
    "    model.add(tf.keras.layers.BatchNormalization())\n",
    "\n",
    "    model.add(tf.keras.layers.Convolution2D(48, (nb_conv, nb_conv), padding='same'))\n",
    "    model.add(tf.keras.layers.Activation('relu'))\n",
    "    model.add(tf.keras.layers.BatchNormalization())\n",
    "\n",
    "    model.add(tf.keras.layers.MaxPooling2D(pool_size=(nb_pool, nb_pool), strides=(1, 1)))\n",
    "\n",
    "    model.add(tf.keras.layers.Flatten())\n",
    "\n",
    "    model.add(tf.keras.layers.Dense(256, kernel_initializer='he_normal'))\n",
    "    model.add(tf.keras.layers.BatchNormalization())\n",
    "    model.add(tf.keras.layers.Activation('relu'))\n",
    "\n",
    "    model.add(tf.keras.layers.Dropout(0.5))\n",
    "\n",
    "    model.add(tf.keras.layers.Dense(nb_classes))\n",
    "    model.add(tf.keras.layers.Activation('softmax'))\n",
    "\n",
    "    sgd = tf.keras.optimizers.SGD(lr=0.01, momentum=0.9, decay=1e-7, nesterov=True)\n",
    "\n",
    "    model.compile(loss='categorical_crossentropy', optimizer=sgd, metrics=['accuracy'])\n",
    "    \n",
    "    model.summary()\n",
    "\n",
    "    print(\"Done.\")\n",
    "    return model\n",
    "\n",
    "\n",
    "model = create_model()"
   ]
  },
  {
   "cell_type": "code",
   "execution_count": 0,
   "metadata": {
    "colab": {},
    "colab_type": "code",
    "id": "4cfKDenDX1ss"
   },
   "outputs": [],
   "source": [
    "filepath = f\"{DIC}sgd.h5\"\n",
    "checkpoint = tf.keras.callbacks.ModelCheckpoint(filepath, monitor='val_acc', verbose=1, save_best_only=True, mode='max')\n",
    "\n",
    "model.fit(X, y, callbacks=[checkpoint], validation_split=0.20, epochs=50, shuffle=True, batch_size=64, verbose=1)"
   ]
  }
 ],
 "metadata": {
  "accelerator": "GPU",
  "colab": {
   "authorship_tag": "ABX9TyMrtEoOSdXSuAcuqC3CZ9Es",
   "machine_shape": "hm",
   "name": "single.ipynb",
   "provenance": []
  },
  "hide_input": false,
  "kernelspec": {
   "display_name": "Python 3",
   "language": "python",
   "name": "python3"
  },
  "language_info": {
   "codemirror_mode": {
    "name": "ipython",
    "version": 3
   },
   "file_extension": ".py",
   "mimetype": "text/x-python",
   "name": "python",
   "nbconvert_exporter": "python",
   "pygments_lexer": "ipython3",
   "version": "3.7.4"
  },
  "varInspector": {
   "cols": {
    "lenName": 16,
    "lenType": 16,
    "lenVar": 40
   },
   "kernels_config": {
    "python": {
     "delete_cmd_postfix": "",
     "delete_cmd_prefix": "del ",
     "library": "var_list.py",
     "varRefreshCmd": "print(var_dic_list())"
    },
    "r": {
     "delete_cmd_postfix": ") ",
     "delete_cmd_prefix": "rm(",
     "library": "var_list.r",
     "varRefreshCmd": "cat(var_dic_list()) "
    }
   },
   "types_to_exclude": [
    "module",
    "function",
    "builtin_function_or_method",
    "instance",
    "_Feature"
   ],
   "window_display": false
  }
 },
 "nbformat": 4,
 "nbformat_minor": 1
}
